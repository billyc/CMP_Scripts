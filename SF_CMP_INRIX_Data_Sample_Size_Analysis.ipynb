{
 "cells": [
  {
   "cell_type": "code",
   "execution_count": 1,
   "metadata": {
    "ExecuteTime": {
     "end_time": "2019-03-29T14:15:25.260771Z",
     "start_time": "2019-03-29T14:15:04.763721Z"
    }
   },
   "outputs": [],
   "source": [
    "# Import necessary packages\n",
    "import pandas as pd\n",
    "import numpy as np\n",
    "import geopandas as gp\n",
    "import dask.dataframe as dd\n",
    "from dask.diagnostics import ProgressBar\n",
    "import dask.distributed\n",
    "client = dask.distributed.Client()\n",
    "\n",
    "import warnings\n",
    "warnings.filterwarnings(\"ignore\")"
   ]
  },
  {
   "cell_type": "code",
   "execution_count": 2,
   "metadata": {
    "ExecuteTime": {
     "end_time": "2019-03-29T14:16:17.360980Z",
     "start_time": "2019-03-29T14:15:27.591004Z"
    }
   },
   "outputs": [
    {
     "name": "stdout",
     "output_type": "stream",
     "text": [
      "Part 1 record #: 22264750, Part 2 record #: 16822195, Part 3 record #: 4794375\n"
     ]
    },
    {
     "data": {
      "text/html": [
       "<div>\n",
       "<style scoped>\n",
       "    .dataframe tbody tr th:only-of-type {\n",
       "        vertical-align: middle;\n",
       "    }\n",
       "\n",
       "    .dataframe tbody tr th {\n",
       "        vertical-align: top;\n",
       "    }\n",
       "\n",
       "    .dataframe thead th {\n",
       "        text-align: right;\n",
       "    }\n",
       "</style>\n",
       "<table border=\"1\" class=\"dataframe\">\n",
       "  <thead>\n",
       "    <tr style=\"text-align: right;\">\n",
       "      <th></th>\n",
       "      <th>Date Time</th>\n",
       "      <th>Segment ID</th>\n",
       "      <th>Speed(miles/hour)</th>\n",
       "      <th>Hist Av Speed(miles/hour)</th>\n",
       "      <th>Ref Speed(miles/hour)</th>\n",
       "      <th>Travel Time(Minutes)</th>\n",
       "      <th>CValue</th>\n",
       "      <th>Pct Score30</th>\n",
       "      <th>Pct Score20</th>\n",
       "      <th>Pct Score10</th>\n",
       "      <th>Road Closure</th>\n",
       "      <th>Corridor/Region Name</th>\n",
       "    </tr>\n",
       "  </thead>\n",
       "  <tbody>\n",
       "    <tr>\n",
       "      <th>0</th>\n",
       "      <td>2019-02-12T00:09:00-08:00</td>\n",
       "      <td>169786058.0</td>\n",
       "      <td>67.0</td>\n",
       "      <td>63.0</td>\n",
       "      <td>60.0</td>\n",
       "      <td>0.5</td>\n",
       "      <td>98.0</td>\n",
       "      <td>100.0</td>\n",
       "      <td>0.0</td>\n",
       "      <td>0.0</td>\n",
       "      <td>F</td>\n",
       "      <td>SF all rds</td>\n",
       "    </tr>\n",
       "    <tr>\n",
       "      <th>1</th>\n",
       "      <td>2019-02-12T00:10:00-08:00</td>\n",
       "      <td>169786058.0</td>\n",
       "      <td>67.0</td>\n",
       "      <td>63.0</td>\n",
       "      <td>60.0</td>\n",
       "      <td>0.5</td>\n",
       "      <td>100.0</td>\n",
       "      <td>100.0</td>\n",
       "      <td>0.0</td>\n",
       "      <td>0.0</td>\n",
       "      <td>F</td>\n",
       "      <td>SF all rds</td>\n",
       "    </tr>\n",
       "  </tbody>\n",
       "</table>\n",
       "</div>"
      ],
      "text/plain": [
       "                   Date Time   Segment ID  Speed(miles/hour)  \\\n",
       "0  2019-02-12T00:09:00-08:00  169786058.0               67.0   \n",
       "1  2019-02-12T00:10:00-08:00  169786058.0               67.0   \n",
       "\n",
       "   Hist Av Speed(miles/hour)  Ref Speed(miles/hour)  Travel Time(Minutes)  \\\n",
       "0                       63.0                   60.0                   0.5   \n",
       "1                       63.0                   60.0                   0.5   \n",
       "\n",
       "   CValue  Pct Score30  Pct Score20  Pct Score10 Road Closure  \\\n",
       "0    98.0        100.0          0.0          0.0            F   \n",
       "1   100.0        100.0          0.0          0.0            F   \n",
       "\n",
       "  Corridor/Region Name  \n",
       "0           SF all rds  \n",
       "1           SF all rds  "
      ]
     },
     "execution_count": 2,
     "metadata": {},
     "output_type": "execute_result"
    }
   ],
   "source": [
    "#Read in the INRIX data using dask\n",
    "filename1 = 'Z:/SF_CMP/Data/SF_all_rds_2019-02-11_to_2019-03-24_1_min_part_1/data.csv'\n",
    "df1 = dd.read_csv(filename1, assume_missing=True)\n",
    "\n",
    "filename2 = 'Z:/SF_CMP/Data/SF_all_rds_2019-02-11_to_2019-03-24_1_min_part_2/data.csv'\n",
    "df2 = dd.read_csv(filename2, assume_missing=True)\n",
    "\n",
    "filename3 = 'Z:/SF_CMP/Data/SF_all_rds_2019-02-11_to_2019-03-24_1_min_part_3/data.csv'\n",
    "df3 = dd.read_csv(filename3, assume_missing=True)\n",
    "\n",
    "print(('Part 1 record #: %s, Part 2 record #: %s, Part 3 record #: %s') % (len(df1), len(df2), len(df3)))\n",
    "\n",
    "df1.head(2)"
   ]
  },
  {
   "cell_type": "code",
   "execution_count": 3,
   "metadata": {},
   "outputs": [
    {
     "name": "stdout",
     "output_type": "stream",
     "text": [
      "Combined record #:  43881320\n"
     ]
    }
   ],
   "source": [
    "#Combine three data parts\n",
    "df = dd.concat([df1,df2],axis=0,interleave_partitions=True)\n",
    "df = dd.concat([df,df3],axis=0,interleave_partitions=True)\n",
    "print('Combined record #: ', len(df))"
   ]
  },
  {
   "cell_type": "code",
   "execution_count": 4,
   "metadata": {
    "ExecuteTime": {
     "end_time": "2019-03-27T20:29:13.493530Z",
     "start_time": "2019-03-27T20:29:13.172498Z"
    }
   },
   "outputs": [],
   "source": [
    "#Create date and time fields for subsequent filtering\n",
    "df['Date_Time'] = df['Date Time'].str[:16]\n",
    "df['Date_Time'] = df['Date_Time'].str.replace('T', \" \")\n",
    "df['Date'] = df['Date_Time'].str[:10]\n",
    "df['Day']=dd.to_datetime(df['Date_Time'])\n",
    "df['DOW']=df.Day.dt.dayofweek #Tue-1, Wed-2, Thu-3\n",
    "df['Hour']=df.Day.dt.hour\n",
    "df['Minute']=df.Day.dt.minute"
   ]
  },
  {
   "cell_type": "code",
   "execution_count": 5,
   "metadata": {
    "ExecuteTime": {
     "end_time": "2019-03-27T20:29:13.788560Z",
     "start_time": "2019-03-27T20:29:13.497531Z"
    }
   },
   "outputs": [
    {
     "name": "stdout",
     "output_type": "stream",
     "text": [
      "Number of records in AM:  5346041\n"
     ]
    }
   ],
   "source": [
    "#Get AM (7-9am) speeds on Tue, Wed, and Thu\n",
    "df_am=df[((df['DOW']>=1) & (df['DOW']<=3)) & ((df['Hour']==7) | (df['Hour']==8))]\n",
    "print('Number of records in AM: ', len(df_am))"
   ]
  },
  {
   "cell_type": "code",
   "execution_count": 6,
   "metadata": {
    "ExecuteTime": {
     "end_time": "2019-03-27T20:29:13.996580Z",
     "start_time": "2019-03-27T20:29:13.790560Z"
    }
   },
   "outputs": [
    {
     "name": "stdout",
     "output_type": "stream",
     "text": [
      "Number of records in PM:  5683124\n"
     ]
    }
   ],
   "source": [
    "#Get PM (4:30-6:30pm) speeds on Tue, Wed, and Thu\n",
    "df_pm=df[((df['DOW']>=1) & (df['DOW']<=3)) & (((df['Hour']==16) & (df['Minute']>=30)) | (df['Hour']==17) | ((df['Hour']==18) & (df['Minute']<30)))]\n",
    "print('Number of records in PM: ', len(df_pm))"
   ]
  },
  {
   "cell_type": "code",
   "execution_count": 7,
   "metadata": {
    "ExecuteTime": {
     "end_time": "2019-03-27T20:34:59.320039Z",
     "start_time": "2019-03-27T20:29:13.997581Z"
    }
   },
   "outputs": [],
   "source": [
    "#Calculate AM sample size for each XD link\n",
    "df_am_sum=df_am.groupby('Segment ID').Date_Time.agg(['count']).compute()\n",
    "df_am_sum=df_am_sum.reset_index()\n",
    "df_am_sum.columns = ['Segment ID','Count_AM']"
   ]
  },
  {
   "cell_type": "code",
   "execution_count": 8,
   "metadata": {
    "ExecuteTime": {
     "end_time": "2019-03-27T20:41:21.200831Z",
     "start_time": "2019-03-27T20:34:59.320039Z"
    }
   },
   "outputs": [],
   "source": [
    "#Calculate PM sample size for each XD link\n",
    "df_pm_sum=df_pm.groupby('Segment ID').Date_Time.agg(['count']).compute()\n",
    "df_pm_sum=df_pm_sum.reset_index()\n",
    "df_pm_sum.columns = ['Segment ID','Count_PM']"
   ]
  },
  {
   "cell_type": "code",
   "execution_count": 9,
   "metadata": {
    "ExecuteTime": {
     "end_time": "2019-03-27T20:41:21.202831Z",
     "start_time": "2019-03-27T20:41:21.200831Z"
    }
   },
   "outputs": [
    {
     "name": "stdout",
     "output_type": "stream",
     "text": [
      "Number of links with speeds in AM:  4144\n",
      "Number of links with speeds in PM:  4161\n"
     ]
    }
   ],
   "source": [
    "num_days=18 #six weeks\n",
    "df_am_sum['Pcnt_AM']=round(100*df_am_sum['Count_AM']/num_days/2/60,3)\n",
    "df_pm_sum['Pcnt_PM']=round(100*df_pm_sum['Count_PM']/num_days/2/60,3)\n",
    "print('Number of links with speeds in AM: ', len(df_am_sum))\n",
    "print('Number of links with speeds in PM: ', len(df_pm_sum))"
   ]
  },
  {
   "cell_type": "code",
   "execution_count": 10,
   "metadata": {
    "ExecuteTime": {
     "end_time": "2019-03-27T20:41:22.670291Z",
     "start_time": "2019-03-27T20:41:21.203832Z"
    }
   },
   "outputs": [
    {
     "name": "stdout",
     "output_type": "stream",
     "text": [
      "Number of links in SF:  4218\n"
     ]
    },
    {
     "data": {
      "text/html": [
       "<div>\n",
       "<style scoped>\n",
       "    .dataframe tbody tr th:only-of-type {\n",
       "        vertical-align: middle;\n",
       "    }\n",
       "\n",
       "    .dataframe tbody tr th {\n",
       "        vertical-align: top;\n",
       "    }\n",
       "\n",
       "    .dataframe thead th {\n",
       "        text-align: right;\n",
       "    }\n",
       "</style>\n",
       "<table border=\"1\" class=\"dataframe\">\n",
       "  <thead>\n",
       "    <tr style=\"text-align: right;\">\n",
       "      <th></th>\n",
       "      <th>OID_1</th>\n",
       "      <th>XDSegID</th>\n",
       "      <th>PreviousXD</th>\n",
       "      <th>NextXDSegI</th>\n",
       "      <th>FRC</th>\n",
       "      <th>RoadNumber</th>\n",
       "      <th>RoadName</th>\n",
       "      <th>LinearID</th>\n",
       "      <th>Country</th>\n",
       "      <th>State</th>\n",
       "      <th>...</th>\n",
       "      <th>SpecialRoa</th>\n",
       "      <th>RoadList</th>\n",
       "      <th>StartLat</th>\n",
       "      <th>StartLong</th>\n",
       "      <th>EndLat</th>\n",
       "      <th>EndLong</th>\n",
       "      <th>Bearing</th>\n",
       "      <th>XDGroup</th>\n",
       "      <th>ShapeSRID</th>\n",
       "      <th>geometry</th>\n",
       "    </tr>\n",
       "  </thead>\n",
       "  <tbody>\n",
       "    <tr>\n",
       "      <th>0</th>\n",
       "      <td>None</td>\n",
       "      <td>168424587</td>\n",
       "      <td>1626689930</td>\n",
       "      <td>1626704693</td>\n",
       "      <td>2</td>\n",
       "      <td>None</td>\n",
       "      <td>Mission Street</td>\n",
       "      <td>None</td>\n",
       "      <td>United States of America</td>\n",
       "      <td>California</td>\n",
       "      <td>...</td>\n",
       "      <td>None</td>\n",
       "      <td>Mission Street</td>\n",
       "      <td>37.76344</td>\n",
       "      <td>-122.41953</td>\n",
       "      <td>37.76505</td>\n",
       "      <td>-122.41969</td>\n",
       "      <td>N</td>\n",
       "      <td>1303785</td>\n",
       "      <td>4326</td>\n",
       "      <td>LINESTRING (-122.4195301579087 37.763439720435...</td>\n",
       "    </tr>\n",
       "    <tr>\n",
       "      <th>1</th>\n",
       "      <td>None</td>\n",
       "      <td>168716200</td>\n",
       "      <td>None</td>\n",
       "      <td>None</td>\n",
       "      <td>4</td>\n",
       "      <td>None</td>\n",
       "      <td>Hayes Street</td>\n",
       "      <td>None</td>\n",
       "      <td>United States of America</td>\n",
       "      <td>California</td>\n",
       "      <td>...</td>\n",
       "      <td>None</td>\n",
       "      <td>Hayes Street</td>\n",
       "      <td>37.77668</td>\n",
       "      <td>-122.42465</td>\n",
       "      <td>37.77671</td>\n",
       "      <td>-122.42438</td>\n",
       "      <td>E</td>\n",
       "      <td>1310140</td>\n",
       "      <td>4326</td>\n",
       "      <td>LINESTRING (-122.424650108766 37.7766802021228...</td>\n",
       "    </tr>\n",
       "  </tbody>\n",
       "</table>\n",
       "<p>2 rows × 25 columns</p>\n",
       "</div>"
      ],
      "text/plain": [
       "  OID_1    XDSegID  PreviousXD  NextXDSegI FRC RoadNumber        RoadName  \\\n",
       "0  None  168424587  1626689930  1626704693   2       None  Mission Street   \n",
       "1  None  168716200        None        None   4       None    Hayes Street   \n",
       "\n",
       "  LinearID                   Country       State  \\\n",
       "0     None  United States of America  California   \n",
       "1     None  United States of America  California   \n",
       "\n",
       "                         ...                         SpecialRoa  \\\n",
       "0                        ...                               None   \n",
       "1                        ...                               None   \n",
       "\n",
       "         RoadList  StartLat   StartLong    EndLat     EndLong Bearing  \\\n",
       "0  Mission Street  37.76344  -122.41953  37.76505  -122.41969       N   \n",
       "1    Hayes Street  37.77668  -122.42465  37.77671  -122.42438       E   \n",
       "\n",
       "   XDGroup ShapeSRID                                           geometry  \n",
       "0  1303785      4326  LINESTRING (-122.4195301579087 37.763439720435...  \n",
       "1  1310140      4326  LINESTRING (-122.424650108766 37.7766802021228...  \n",
       "\n",
       "[2 rows x 25 columns]"
      ]
     },
     "execution_count": 10,
     "metadata": {},
     "output_type": "execute_result"
    }
   ],
   "source": [
    "#Read in INRIX XD network shapefile\n",
    "shp_path='Z:/SF_CMP/Data/inrixXD_SF/inrixXD_SF.shp'\n",
    "sf_shp = gp.read_file(shp_path)\n",
    "print('Number of links in SF: ', len(sf_shp))\n",
    "sf_shp.head(2)"
   ]
  },
  {
   "cell_type": "code",
   "execution_count": 11,
   "metadata": {
    "ExecuteTime": {
     "end_time": "2019-03-27T20:41:35.213328Z",
     "start_time": "2019-03-27T20:41:34.871294Z"
    }
   },
   "outputs": [],
   "source": [
    "#Attach the sample size measures to the shapefile\n",
    "df_am_sum['Segment ID']=df_am_sum['Segment ID'].astype(np.int64)\n",
    "df_pm_sum['Segment ID']=df_pm_sum['Segment ID'].astype(np.int64)\n",
    "sf_shp['XDSegID']=sf_shp['XDSegID'].astype(np.int64)\n",
    "df_samplesize=pd.merge(sf_shp, df_am_sum, left_on='XDSegID', right_on='Segment ID', how='left') #AM\n",
    "df_samplesize=pd.merge(df_samplesize, df_pm_sum, left_on='XDSegID', right_on='Segment ID', how='left') #PM"
   ]
  },
  {
   "cell_type": "code",
   "execution_count": 12,
   "metadata": {},
   "outputs": [],
   "source": [
    "#Create adequacy indicators for 10%, 30%, and 50% thresholds\n",
    "df_samplesize['ADQT_AM_10']=df_samplesize.apply(lambda x: 'Yes' if x['Pcnt_AM']>10 else 'No', axis=1) #10% threshold for AM\n",
    "df_samplesize['ADQT_AM_30']=df_samplesize.apply(lambda x: 'Yes' if x['Pcnt_AM']>30 else 'No', axis=1) #30% threshold for AM\n",
    "df_samplesize['ADQT_AM_50']=df_samplesize.apply(lambda x: 'Yes' if x['Pcnt_AM']>50 else 'No', axis=1) #50% threshold for AM\n",
    "\n",
    "df_samplesize['ADQT_PM_10']=df_samplesize.apply(lambda x: 'Yes' if x['Pcnt_PM']>10 else 'No', axis=1) #10% threshold for PM\n",
    "df_samplesize['ADQT_PM_30']=df_samplesize.apply(lambda x: 'Yes' if x['Pcnt_PM']>30 else 'No', axis=1) #30% threshold for PM\n",
    "df_samplesize['ADQT_PM_50']=df_samplesize.apply(lambda x: 'Yes' if x['Pcnt_PM']>50 else 'No', axis=1) #50% threshold for PM"
   ]
  },
  {
   "cell_type": "code",
   "execution_count": 13,
   "metadata": {
    "ExecuteTime": {
     "end_time": "2019-03-27T20:41:35.789175Z",
     "start_time": "2019-03-27T20:41:35.215328Z"
    }
   },
   "outputs": [
    {
     "data": {
      "text/html": [
       "<div>\n",
       "<style scoped>\n",
       "    .dataframe tbody tr th:only-of-type {\n",
       "        vertical-align: middle;\n",
       "    }\n",
       "\n",
       "    .dataframe tbody tr th {\n",
       "        vertical-align: top;\n",
       "    }\n",
       "\n",
       "    .dataframe thead th {\n",
       "        text-align: right;\n",
       "    }\n",
       "</style>\n",
       "<table border=\"1\" class=\"dataframe\">\n",
       "  <thead>\n",
       "    <tr style=\"text-align: right;\">\n",
       "      <th></th>\n",
       "      <th>OID_1</th>\n",
       "      <th>XDSegID</th>\n",
       "      <th>PreviousXD</th>\n",
       "      <th>NextXDSegI</th>\n",
       "      <th>FRC</th>\n",
       "      <th>RoadNumber</th>\n",
       "      <th>RoadName</th>\n",
       "      <th>LinearID</th>\n",
       "      <th>Country</th>\n",
       "      <th>State</th>\n",
       "      <th>...</th>\n",
       "      <th>Pcnt_AM</th>\n",
       "      <th>Segment ID_y</th>\n",
       "      <th>Count_PM</th>\n",
       "      <th>Pcnt_PM</th>\n",
       "      <th>ADQT_AM_10</th>\n",
       "      <th>ADQT_AM_30</th>\n",
       "      <th>ADQT_AM_50</th>\n",
       "      <th>ADQT_PM_10</th>\n",
       "      <th>ADQT_PM_30</th>\n",
       "      <th>ADQT_PM_50</th>\n",
       "    </tr>\n",
       "  </thead>\n",
       "  <tbody>\n",
       "    <tr>\n",
       "      <th>0</th>\n",
       "      <td>None</td>\n",
       "      <td>168424587</td>\n",
       "      <td>1626689930</td>\n",
       "      <td>1626704693</td>\n",
       "      <td>2</td>\n",
       "      <td>None</td>\n",
       "      <td>Mission Street</td>\n",
       "      <td>None</td>\n",
       "      <td>United States of America</td>\n",
       "      <td>California</td>\n",
       "      <td>...</td>\n",
       "      <td>65.000</td>\n",
       "      <td>168424587.0</td>\n",
       "      <td>703.0</td>\n",
       "      <td>32.546</td>\n",
       "      <td>Yes</td>\n",
       "      <td>Yes</td>\n",
       "      <td>Yes</td>\n",
       "      <td>Yes</td>\n",
       "      <td>Yes</td>\n",
       "      <td>No</td>\n",
       "    </tr>\n",
       "    <tr>\n",
       "      <th>1</th>\n",
       "      <td>None</td>\n",
       "      <td>168716200</td>\n",
       "      <td>None</td>\n",
       "      <td>None</td>\n",
       "      <td>4</td>\n",
       "      <td>None</td>\n",
       "      <td>Hayes Street</td>\n",
       "      <td>None</td>\n",
       "      <td>United States of America</td>\n",
       "      <td>California</td>\n",
       "      <td>...</td>\n",
       "      <td>68.380</td>\n",
       "      <td>168716200.0</td>\n",
       "      <td>1462.0</td>\n",
       "      <td>67.685</td>\n",
       "      <td>Yes</td>\n",
       "      <td>Yes</td>\n",
       "      <td>Yes</td>\n",
       "      <td>Yes</td>\n",
       "      <td>Yes</td>\n",
       "      <td>Yes</td>\n",
       "    </tr>\n",
       "    <tr>\n",
       "      <th>2</th>\n",
       "      <td>None</td>\n",
       "      <td>168746767</td>\n",
       "      <td>None</td>\n",
       "      <td>None</td>\n",
       "      <td>4</td>\n",
       "      <td>None</td>\n",
       "      <td>Letterman Drive</td>\n",
       "      <td>None</td>\n",
       "      <td>United States of America</td>\n",
       "      <td>California</td>\n",
       "      <td>...</td>\n",
       "      <td>51.343</td>\n",
       "      <td>168746767.0</td>\n",
       "      <td>1171.0</td>\n",
       "      <td>54.213</td>\n",
       "      <td>Yes</td>\n",
       "      <td>Yes</td>\n",
       "      <td>Yes</td>\n",
       "      <td>Yes</td>\n",
       "      <td>Yes</td>\n",
       "      <td>Yes</td>\n",
       "    </tr>\n",
       "    <tr>\n",
       "      <th>3</th>\n",
       "      <td>None</td>\n",
       "      <td>168751741</td>\n",
       "      <td>None</td>\n",
       "      <td>None</td>\n",
       "      <td>4</td>\n",
       "      <td>None</td>\n",
       "      <td>Letterman Drive</td>\n",
       "      <td>None</td>\n",
       "      <td>United States of America</td>\n",
       "      <td>California</td>\n",
       "      <td>...</td>\n",
       "      <td>51.343</td>\n",
       "      <td>168751741.0</td>\n",
       "      <td>1171.0</td>\n",
       "      <td>54.213</td>\n",
       "      <td>Yes</td>\n",
       "      <td>Yes</td>\n",
       "      <td>Yes</td>\n",
       "      <td>Yes</td>\n",
       "      <td>Yes</td>\n",
       "      <td>Yes</td>\n",
       "    </tr>\n",
       "    <tr>\n",
       "      <th>4</th>\n",
       "      <td>None</td>\n",
       "      <td>168751736</td>\n",
       "      <td>None</td>\n",
       "      <td>None</td>\n",
       "      <td>4</td>\n",
       "      <td>None</td>\n",
       "      <td>Battery Caulfield Road</td>\n",
       "      <td>None</td>\n",
       "      <td>United States of America</td>\n",
       "      <td>California</td>\n",
       "      <td>...</td>\n",
       "      <td>48.750</td>\n",
       "      <td>168751736.0</td>\n",
       "      <td>617.0</td>\n",
       "      <td>28.565</td>\n",
       "      <td>Yes</td>\n",
       "      <td>Yes</td>\n",
       "      <td>No</td>\n",
       "      <td>Yes</td>\n",
       "      <td>No</td>\n",
       "      <td>No</td>\n",
       "    </tr>\n",
       "  </tbody>\n",
       "</table>\n",
       "<p>5 rows × 37 columns</p>\n",
       "</div>"
      ],
      "text/plain": [
       "  OID_1    XDSegID  PreviousXD  NextXDSegI FRC RoadNumber  \\\n",
       "0  None  168424587  1626689930  1626704693   2       None   \n",
       "1  None  168716200        None        None   4       None   \n",
       "2  None  168746767        None        None   4       None   \n",
       "3  None  168751741        None        None   4       None   \n",
       "4  None  168751736        None        None   4       None   \n",
       "\n",
       "                 RoadName LinearID                   Country       State  \\\n",
       "0          Mission Street     None  United States of America  California   \n",
       "1            Hayes Street     None  United States of America  California   \n",
       "2         Letterman Drive     None  United States of America  California   \n",
       "3         Letterman Drive     None  United States of America  California   \n",
       "4  Battery Caulfield Road     None  United States of America  California   \n",
       "\n",
       "     ...     Pcnt_AM Segment ID_y Count_PM Pcnt_PM ADQT_AM_10 ADQT_AM_30  \\\n",
       "0    ...      65.000  168424587.0    703.0  32.546        Yes        Yes   \n",
       "1    ...      68.380  168716200.0   1462.0  67.685        Yes        Yes   \n",
       "2    ...      51.343  168746767.0   1171.0  54.213        Yes        Yes   \n",
       "3    ...      51.343  168751741.0   1171.0  54.213        Yes        Yes   \n",
       "4    ...      48.750  168751736.0    617.0  28.565        Yes        Yes   \n",
       "\n",
       "  ADQT_AM_50 ADQT_PM_10 ADQT_PM_30 ADQT_PM_50  \n",
       "0        Yes        Yes        Yes         No  \n",
       "1        Yes        Yes        Yes        Yes  \n",
       "2        Yes        Yes        Yes        Yes  \n",
       "3        Yes        Yes        Yes        Yes  \n",
       "4         No        Yes         No         No  \n",
       "\n",
       "[5 rows x 37 columns]"
      ]
     },
     "execution_count": 13,
     "metadata": {},
     "output_type": "execute_result"
    }
   ],
   "source": [
    "df_samplesize.head()"
   ]
  },
  {
   "cell_type": "code",
   "execution_count": 14,
   "metadata": {
    "ExecuteTime": {
     "end_time": "2019-03-27T20:41:41.245884Z",
     "start_time": "2019-03-27T20:41:35.789175Z"
    }
   },
   "outputs": [],
   "source": [
    "#Output the combined shapefile\n",
    "df_samplesize.to_file('Z:/SF_CMP/Data/SF_INRIX_Sample_Size_SixWeeks.shp')"
   ]
  }
 ],
 "metadata": {
  "kernelspec": {
   "display_name": "Python 3",
   "language": "python",
   "name": "python3"
  },
  "language_info": {
   "codemirror_mode": {
    "name": "ipython",
    "version": 3
   },
   "file_extension": ".py",
   "mimetype": "text/x-python",
   "name": "python",
   "nbconvert_exporter": "python",
   "pygments_lexer": "ipython3",
   "version": "3.6.5"
  },
  "toc": {
   "base_numbering": 1,
   "nav_menu": {},
   "number_sections": true,
   "sideBar": true,
   "skip_h1_title": false,
   "title_cell": "Table of Contents",
   "title_sidebar": "Contents",
   "toc_cell": false,
   "toc_position": {},
   "toc_section_display": true,
   "toc_window_display": false
  },
  "varInspector": {
   "cols": {
    "lenName": 16,
    "lenType": 16,
    "lenVar": 40
   },
   "kernels_config": {
    "python": {
     "delete_cmd_postfix": "",
     "delete_cmd_prefix": "del ",
     "library": "var_list.py",
     "varRefreshCmd": "print(var_dic_list())"
    },
    "r": {
     "delete_cmd_postfix": ") ",
     "delete_cmd_prefix": "rm(",
     "library": "var_list.r",
     "varRefreshCmd": "cat(var_dic_list()) "
    }
   },
   "types_to_exclude": [
    "module",
    "function",
    "builtin_function_or_method",
    "instance",
    "_Feature"
   ],
   "window_display": false
  }
 },
 "nbformat": 4,
 "nbformat_minor": 2
}
